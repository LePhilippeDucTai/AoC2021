{
 "cells": [
  {
   "cell_type": "code",
   "execution_count": 1,
   "id": "7aa0b560-f683-4f5a-9a15-300d3b70e3fc",
   "metadata": {},
   "outputs": [],
   "source": [
    "import pandas as pd\n",
    "from collections import Counter"
   ]
  },
  {
   "cell_type": "markdown",
   "id": "fff4eaa1-de5d-437b-ba66-8b767ed035a4",
   "metadata": {},
   "source": [
    "## Part 1"
   ]
  },
  {
   "cell_type": "code",
   "execution_count": 2,
   "id": "c75fdac3-f1b4-4f42-a277-8587258fa508",
   "metadata": {},
   "outputs": [
    {
     "data": {
      "text/plain": [
       "2003336"
      ]
     },
     "execution_count": 2,
     "metadata": {},
     "output_type": "execute_result"
    }
   ],
   "source": [
    "def binary_to_decimal(b):\n",
    "    s = b[::-1]\n",
    "    return sum(int(x) * 2 ** i for i,x in enumerate(s))\n",
    "\n",
    "def most_freq(bit_list):\n",
    "    counts = Counter(bit_list)\n",
    "    return '1' if counts['1'] >= counts['0'] else '0'\n",
    "\n",
    "def inverter(bit):\n",
    "    return '1' if bit == '0' else '0'\n",
    "\n",
    "data = pd.read_table(\"input\", names = [\"binaries\"], dtype = str)\n",
    "ls = data[\"binaries\"].tolist()\n",
    "xs = list(zip(*ls))\n",
    "gamma = \"\".join(map(most_freq, xs))\n",
    "epsilon = \"\".join(map(inverter, gamma))\n",
    "gamma_rate, epsilon_rate = binary_to_decimal(gamma), binary_to_decimal(epsilon)\n",
    "gamma_rate * epsilon_rate"
   ]
  },
  {
   "cell_type": "markdown",
   "id": "7b9bd506-60f1-4529-90e5-9f8a0bfda144",
   "metadata": {},
   "source": [
    "## Part 2"
   ]
  },
  {
   "cell_type": "code",
   "execution_count": 3,
   "id": "8dad7456-64a9-43e8-95a3-b61ac2bee6fe",
   "metadata": {},
   "outputs": [],
   "source": [
    "def least_freq(bit_list):\n",
    "    counts = Counter(bit_list)\n",
    "    return '0' if counts['1'] >= counts['0'] else '1'"
   ]
  },
  {
   "cell_type": "code",
   "execution_count": 4,
   "id": "8de414bc-b0a7-4bd3-bee4-3cceb9e9e053",
   "metadata": {},
   "outputs": [],
   "source": [
    "def recursive_finder(list_bits, pos, key):\n",
    "    if len(list_bits) == 1:\n",
    "        return list_bits[0]\n",
    "    else:\n",
    "        _xs = list(zip(*list_bits))\n",
    "        _ls = [s for s in list_bits if s[pos] == key(_xs[pos])]\n",
    "        return recursive_finder(_ls, pos + 1, key)"
   ]
  },
  {
   "cell_type": "code",
   "execution_count": 5,
   "id": "038aac12-57aa-4311-945e-805952a1dc90",
   "metadata": {},
   "outputs": [],
   "source": [
    "oxygen = recursive_finder(ls, 0, most_freq)\n",
    "oxygen_rate = binary_to_decimal(oxygen)\n",
    "co2 = recursive_finder(ls, 0, least_freq)\n",
    "co2_rate = binary_to_decimal(co2)"
   ]
  },
  {
   "cell_type": "code",
   "execution_count": 6,
   "id": "8492e10e-24d7-4129-afd9-22de1dee4998",
   "metadata": {},
   "outputs": [
    {
     "data": {
      "text/plain": [
       "1877139"
      ]
     },
     "execution_count": 6,
     "metadata": {},
     "output_type": "execute_result"
    }
   ],
   "source": [
    "oxygen_rate * co2_rate"
   ]
  }
 ],
 "metadata": {
  "kernelspec": {
   "display_name": "Python (3.10) (dev)",
   "language": "python",
   "name": "dev"
  },
  "language_info": {
   "codemirror_mode": {
    "name": "ipython",
    "version": 3
   },
   "file_extension": ".py",
   "mimetype": "text/x-python",
   "name": "python",
   "nbconvert_exporter": "python",
   "pygments_lexer": "ipython3",
   "version": "3.10.0"
  }
 },
 "nbformat": 4,
 "nbformat_minor": 5
}
