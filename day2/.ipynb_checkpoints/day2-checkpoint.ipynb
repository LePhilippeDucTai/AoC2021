{
 "cells": [
  {
   "cell_type": "code",
   "execution_count": 1,
   "id": "698984c2-9de6-43be-83ff-6618e7afe950",
   "metadata": {},
   "outputs": [],
   "source": [
    "import pandas as pd\n",
    "import functools as ft"
   ]
  },
  {
   "cell_type": "markdown",
   "id": "763b4cfe-ac35-4853-91a5-c08f5d9cbb75",
   "metadata": {},
   "source": [
    "## Part 1"
   ]
  },
  {
   "cell_type": "code",
   "execution_count": 2,
   "id": "a7719804-cb81-49ca-8fd1-ec113b7ed682",
   "metadata": {},
   "outputs": [
    {
     "data": {
      "text/plain": [
       "value    1868935\n",
       "dtype: int64"
      ]
     },
     "execution_count": 2,
     "metadata": {},
     "output_type": "execute_result"
    }
   ],
   "source": [
    "data = pd.read_table(\"input\", names = [\"moves\"])\n",
    "\n",
    "df = data[\"moves\"].str.split(expand=True).rename({0:\"action\", 1:\"value\"}, axis = 1)\n",
    "df[\"value\"] = df[\"value\"].astype(int)\n",
    "grouped_actions = df.groupby(\"action\").agg(sum)\n",
    "\n",
    "down = grouped_actions.loc[\"down\"]\n",
    "up = grouped_actions.loc[\"up\"]\n",
    "horizontal = grouped_actions.loc[\"forward\"]\n",
    "result = (down - up) * horizontal\n",
    "result"
   ]
  },
  {
   "cell_type": "markdown",
   "id": "1eccce97-e381-4ed1-9549-f47bd660b212",
   "metadata": {},
   "source": [
    "## Part 2"
   ]
  },
  {
   "cell_type": "code",
   "execution_count": 3,
   "id": "d810de8a-f7e1-404f-bd93-d5fffdbe1079",
   "metadata": {},
   "outputs": [],
   "source": [
    "list_actions = data[\"moves\"].str.split().tolist()\n",
    "list_actions = [(action, int(value)) for action, value in list_actions]"
   ]
  },
  {
   "cell_type": "code",
   "execution_count": 4,
   "id": "367fc0d9-4025-4aa0-b595-a5198a9731c9",
   "metadata": {},
   "outputs": [
    {
     "data": {
      "text/plain": [
       "1965970888"
      ]
     },
     "execution_count": 4,
     "metadata": {},
     "output_type": "execute_result"
    }
   ],
   "source": [
    "def move_submarine(acc, action_value):\n",
    "    horizontal, depth, aim = acc\n",
    "    match action_value:\n",
    "        case [\"forward\", x] : return (horizontal + x, depth + aim * x, aim)\n",
    "        case [\"down\", x] : return (horizontal, depth, aim + x)\n",
    "        case [\"up\", x] : return (horizontal, depth, aim - x)\n",
    "\n",
    "result = ft.reduce(move_submarine, list_actions, (0, 0, 0))\n",
    "\n",
    "horizontal, depth, aim = result\n",
    "\n",
    "horizontal * depth"
   ]
  },
  {
   "cell_type": "code",
   "execution_count": null,
   "id": "2ca1368b-a3bd-4ac4-a60f-9c46c53b63d3",
   "metadata": {},
   "outputs": [],
   "source": []
  },
  {
   "cell_type": "code",
   "execution_count": null,
   "id": "bbe9ce08-356e-4a7b-9243-74368eab3dac",
   "metadata": {},
   "outputs": [],
   "source": []
  },
  {
   "cell_type": "code",
   "execution_count": null,
   "id": "59ecca4d-83f1-4a6d-a16e-4494cfe9ed3b",
   "metadata": {},
   "outputs": [],
   "source": []
  }
 ],
 "metadata": {
  "kernelspec": {
   "display_name": "Python (3.10) (dev)",
   "language": "python",
   "name": "dev"
  },
  "language_info": {
   "codemirror_mode": {
    "name": "ipython",
    "version": 3
   },
   "file_extension": ".py",
   "mimetype": "text/x-python",
   "name": "python",
   "nbconvert_exporter": "python",
   "pygments_lexer": "ipython3",
   "version": "3.10.0"
  }
 },
 "nbformat": 4,
 "nbformat_minor": 5
}
