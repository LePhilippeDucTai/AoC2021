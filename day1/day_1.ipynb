{
 "cells": [
  {
   "cell_type": "code",
   "execution_count": null,
   "id": "67388139-57c7-41a1-b08f-d3e0106f6a03",
   "metadata": {},
   "outputs": [],
   "source": [
    "# Day 1"
   ]
  },
  {
   "cell_type": "code",
   "execution_count": 3,
   "id": "35e88954-7e1c-4e8d-8204-f4e57d84f946",
   "metadata": {},
   "outputs": [],
   "source": [
    "import pandas as pd"
   ]
  },
  {
   "cell_type": "code",
   "execution_count": 64,
   "id": "d20e8d14-ff3d-4e24-acd9-44a3fe2da4c2",
   "metadata": {},
   "outputs": [
    {
     "data": {
      "text/plain": [
       "steps    1602\n",
       "dtype: int64"
      ]
     },
     "execution_count": 64,
     "metadata": {},
     "output_type": "execute_result"
    }
   ],
   "source": [
    "df = pd.read_table(\"input_day_1\", names = [\"steps\"], header = None)\n",
    "diffs = (df.diff() > 0)\n",
    "diffs.sum()"
   ]
  },
  {
   "cell_type": "code",
   "execution_count": 65,
   "id": "3e1cbd28-52cd-4a33-9f9b-e19b7ba9f346",
   "metadata": {},
   "outputs": [
    {
     "data": {
      "text/plain": [
       "steps    1633\n",
       "dtype: int64"
      ]
     },
     "execution_count": 65,
     "metadata": {},
     "output_type": "execute_result"
    }
   ],
   "source": [
    "n_groups = 3\n",
    "(df.rolling(3).sum().diff() > 0).sum()"
   ]
  },
  {
   "cell_type": "code",
   "execution_count": null,
   "id": "d515699e-5075-4737-9062-8a63a6376935",
   "metadata": {},
   "outputs": [],
   "source": []
  },
  {
   "cell_type": "code",
   "execution_count": null,
   "id": "efbb6854-28c2-4783-be7b-517583b865eb",
   "metadata": {},
   "outputs": [],
   "source": []
  },
  {
   "cell_type": "code",
   "execution_count": null,
   "id": "af1a53fe-5452-433d-bb2c-f87c848c1d88",
   "metadata": {},
   "outputs": [],
   "source": []
  }
 ],
 "metadata": {
  "kernelspec": {
   "display_name": "Python (3.10)",
   "language": "python",
   "name": "myenv310"
  },
  "language_info": {
   "codemirror_mode": {
    "name": "ipython",
    "version": 3
   },
   "file_extension": ".py",
   "mimetype": "text/x-python",
   "name": "python",
   "nbconvert_exporter": "python",
   "pygments_lexer": "ipython3",
   "version": "3.10.0"
  }
 },
 "nbformat": 4,
 "nbformat_minor": 5
}
